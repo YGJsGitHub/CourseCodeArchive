{
 "cells": [
  {
   "cell_type": "code",
   "execution_count": 1,
   "metadata": {},
   "outputs": [],
   "source": [
    "import  torch\n",
    "from    torch import optim, nn\n",
    "import  visdom\n",
    "import  torchvision\n",
    "from    torch.utils.data import DataLoader\n",
    "\n",
    "from    resnet18 import ResNet18\n",
    "from    densenet import DenseNet"
   ]
  },
  {
   "cell_type": "code",
   "execution_count": 2,
   "metadata": {},
   "outputs": [],
   "source": [
    "from    stone import Stone\n",
    "from    stonetest import StoneTest"
   ]
  },
  {
   "cell_type": "code",
   "execution_count": 3,
   "metadata": {},
   "outputs": [],
   "source": [
    "batchsz = 7\n",
    "lr = 1e-3\n",
    "epochs = 20\n",
    "\n",
    "device = torch.device('cuda')\n",
    "torch.manual_seed(1234)\n",
    "\n",
    "\n",
    "train_db = Stone('stone', 224, mode='train')\n",
    "val_db = Stone('stone', 224, mode='val')\n",
    "train_loader = DataLoader(train_db, batch_size=batchsz, shuffle=True)\n",
    "val_loader = DataLoader(val_db, batch_size=batchsz)\n",
    "\n",
    "\n",
    "\n"
   ]
  },
  {
   "cell_type": "code",
   "execution_count": 4,
   "metadata": {},
   "outputs": [
    {
     "name": "stderr",
     "output_type": "stream",
     "text": [
      "Setting up a new session...\n"
     ]
    }
   ],
   "source": [
    "test_db = StoneTest('stonetest', 224, mode='test')\n",
    "test_loader = DataLoader(test_db, batch_size=batchsz,shuffle=False)\n",
    "\n",
    "\n",
    "\n",
    "viz = visdom.Visdom()"
   ]
  },
  {
   "cell_type": "code",
   "execution_count": 5,
   "metadata": {},
   "outputs": [],
   "source": [
    "def evalute(model, loader):\n",
    "    model.eval() #实际估计时使用\n",
    "    \n",
    "    correct = 0\n",
    "    cc=0\n",
    "    total = len(loader.dataset)\n",
    "\n",
    "    for x,y in loader:\n",
    "        x,y = x.to(device), y.to(device)\n",
    "        with torch.no_grad():\n",
    "            logits = model(x)\n",
    "            pred = logits.argmax(dim=1)\n",
    "        correct += torch.eq(pred, y).sum().float().item()\n",
    "\n",
    "    return correct / total\n"
   ]
  },
  {
   "cell_type": "code",
   "execution_count": 6,
   "metadata": {},
   "outputs": [],
   "source": [
    "def main():\n",
    "\n",
    "    #model = ResNet18(7).to(device)\n",
    "    model = DenseNet(growth_rate=32, block_config=(6, 12, 24, 16), num_init_features=64,\n",
    "                 bn_size=4, compression_rate=0.5, drop_rate=0, num_classes=7).to(device)\n",
    "    \n",
    "    #model.load_state_dict(torch.load('best.mdl'))\n",
    "    \n",
    "    optimizer = optim.Adam(model.parameters(), lr=lr)\n",
    "    criteon = nn.CrossEntropyLoss()\n",
    "\n",
    "\n",
    "    best_acc, best_epoch = 0, 0\n",
    "    global_step = 0\n",
    "    #viz.line([0], [-1], win='loss', opts=dict(title='loss'))\n",
    "    #viz.line([0], [-1], win='val_acc', opts=dict(title='val_acc'))\n",
    "    viz.line([0], [0], win='损失loss', opts=dict(title='损失loss'))\n",
    "    viz.line([0], [0], win='交叉验证集测试结果', opts=dict(title='交叉验证集测试结果'))\n",
    "    viz.line([0], [0], win='交叉验证集的测试结果', opts=dict(title='交叉验证集的测试结果'))\n",
    "    for epoch in range(epochs):\n",
    "\n",
    "        for step, (x,y) in enumerate(train_loader):\n",
    "\n",
    "            # x: [b, 3, 224, 224], y: [b]\n",
    "            x, y = x.to(device), y.to(device)\n",
    "            \n",
    "            model.train()\n",
    "            logits = model(x)\n",
    "            loss = criteon(logits, y)\n",
    "\n",
    "            optimizer.zero_grad()\n",
    "            loss.backward()\n",
    "            optimizer.step()\n",
    "\n",
    "            #viz.line([loss.item()], [global_step], win='loss', update='append')\n",
    "            viz.line([loss.item()], [global_step], win='损失loss', update='append')\n",
    "            global_step += 1\n",
    "            #print('global_step:', global_step,'loss.item:',loss.item())\n",
    "        print('global_step:', global_step,'loss.item:',loss.item())\n",
    "\n",
    "        if epoch % 1 == 0:\n",
    "\n",
    "            val_acc = evalute(model, val_loader)\n",
    "            \n",
    "            print('val_acc:', val_acc, 'epoch:', epoch)\n",
    "\n",
    "\n",
    "            if val_acc > best_acc:\n",
    "                best_epoch = epoch\n",
    "                best_acc = val_acc\n",
    "\n",
    "                torch.save(model.state_dict(), 'best.mdl')\n",
    "                viz.line([val_acc], [epoch+1], win='交叉验证集测试结果', update='append')\n",
    "                \n",
    "            #viz.line([val_acc], [global_step], win='val_acc', update='append')\n",
    "            viz.line([val_acc], [epoch+1], win='交叉验证集的测试结果', update='append')\n",
    "\n",
    "\n",
    "                \n",
    "                \n",
    "    print('best acc:', best_acc, 'best epoch:', best_epoch)\n",
    "\n",
    "    model.load_state_dict(torch.load('best.mdl'))\n",
    "    print('loaded from ckpt!')\n",
    "\n",
    "    test_acc = evalute(model, test_loader)\n",
    "    print('test acc:', test_acc)"
   ]
  },
  {
   "cell_type": "code",
   "execution_count": 7,
   "metadata": {},
   "outputs": [
    {
     "name": "stdout",
     "output_type": "stream",
     "text": [
      "global_step: 306 loss.item: 1.693791389465332\n",
      "val_acc: 0.4369747899159664 epoch: 0\n",
      "global_step: 612 loss.item: 1.459078073501587\n",
      "val_acc: 0.44677871148459386 epoch: 1\n",
      "global_step: 918 loss.item: 1.386906385421753\n",
      "val_acc: 0.6176470588235294 epoch: 2\n",
      "global_step: 1224 loss.item: 0.783399224281311\n",
      "val_acc: 0.5630252100840336 epoch: 3\n",
      "global_step: 1530 loss.item: 0.6796776056289673\n",
      "val_acc: 0.5672268907563025 epoch: 4\n",
      "global_step: 1836 loss.item: 1.0090464353561401\n",
      "val_acc: 0.5770308123249299 epoch: 5\n",
      "global_step: 2142 loss.item: 1.7514547109603882\n",
      "val_acc: 0.484593837535014 epoch: 6\n",
      "global_step: 2448 loss.item: 1.2047598361968994\n",
      "val_acc: 0.6372549019607843 epoch: 7\n",
      "global_step: 2754 loss.item: 1.0750868320465088\n",
      "val_acc: 0.19047619047619047 epoch: 8\n",
      "global_step: 3060 loss.item: 0.9981099963188171\n",
      "val_acc: 0.6078431372549019 epoch: 9\n",
      "global_step: 3366 loss.item: 0.824989914894104\n",
      "val_acc: 0.6218487394957983 epoch: 10\n",
      "global_step: 3672 loss.item: 0.41418957710266113\n",
      "val_acc: 0.42016806722689076 epoch: 11\n",
      "global_step: 3978 loss.item: 1.0993080139160156\n",
      "val_acc: 0.4887955182072829 epoch: 12\n",
      "global_step: 4284 loss.item: 1.2861970663070679\n",
      "val_acc: 0.6386554621848739 epoch: 13\n",
      "global_step: 4590 loss.item: 0.5996636152267456\n",
      "val_acc: 0.5056022408963585 epoch: 14\n",
      "global_step: 4896 loss.item: 0.5206621289253235\n",
      "val_acc: 0.48179271708683474 epoch: 15\n",
      "global_step: 5202 loss.item: 1.9074375629425049\n",
      "val_acc: 0.6750700280112045 epoch: 16\n",
      "global_step: 5508 loss.item: 0.7641811370849609\n",
      "val_acc: 0.5070028011204482 epoch: 17\n",
      "global_step: 5814 loss.item: 0.32205063104629517\n",
      "val_acc: 0.7170868347338936 epoch: 18\n",
      "global_step: 6120 loss.item: 0.34512919187545776\n",
      "val_acc: 0.665266106442577 epoch: 19\n",
      "best acc: 0.7170868347338936 best epoch: 18\n",
      "loaded from ckpt!\n",
      "test acc: 0.42857142857142855\n"
     ]
    }
   ],
   "source": [
    "if __name__ == '__main__':\n",
    "    main()"
   ]
  },
  {
   "cell_type": "code",
   "execution_count": 8,
   "metadata": {},
   "outputs": [
    {
     "name": "stdout",
     "output_type": "stream",
     "text": [
      "loaded from ckpt!\n"
     ]
    }
   ],
   "source": [
    "model = ResNet18(7).to(device)\n",
    "#model.load_state_dict(torch.load('best.mdl'))\n",
    "#model = DenseNet(growth_rate=32, block_config=(6, 12, 24, 16), num_init_features=64,\n",
    "#             bn_size=4, compression_rate=0.5, drop_rate=0, num_classes=7).to(device)\n",
    "print('loaded from ckpt!')"
   ]
  },
  {
   "cell_type": "code",
   "execution_count": 9,
   "metadata": {},
   "outputs": [
    {
     "name": "stdout",
     "output_type": "stream",
     "text": [
      "test acc: 0.6428571428571429\n"
     ]
    }
   ],
   "source": [
    "test_acc = evalute(model, test_loader)\n",
    "print('test acc:', test_acc)"
   ]
  },
  {
   "cell_type": "code",
   "execution_count": null,
   "metadata": {},
   "outputs": [],
   "source": []
  }
 ],
 "metadata": {
  "kernelspec": {
   "display_name": "Python 3",
   "language": "python",
   "name": "python3"
  },
  "language_info": {
   "codemirror_mode": {
    "name": "ipython",
    "version": 3
   },
   "file_extension": ".py",
   "mimetype": "text/x-python",
   "name": "python",
   "nbconvert_exporter": "python",
   "pygments_lexer": "ipython3",
   "version": "3.7.0"
  }
 },
 "nbformat": 4,
 "nbformat_minor": 2
}
